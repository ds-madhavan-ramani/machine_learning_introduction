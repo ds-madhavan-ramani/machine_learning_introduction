{
 "cells": [
  {
   "cell_type": "markdown",
   "metadata": {
    "nbpresent": {
     "id": "365ab75b-fb74-4fc0-9efb-ea51b2c208e6"
    },
    "slideshow": {
     "slide_type": "slide"
    }
   },
   "source": [
    "# OpenML in Python \n",
    "OpenML is an online collaboration platform for machine learning: \n",
    "\n",
    "* Share/reuse machine learning datasets, algorithms, models, experiments\n",
    "* Well documented/annotated datasets, uniform access\n",
    "* APIs in Java, R, Python\\*,... to download/upload everything\n",
    "* Better reproducibility of experiments, reuse of machine learning models \n",
    "* Works well with machine learning libraries such as scikit-learn\n",
    "* Large scale benchmarking, compare to state of the art"
   ]
  },
  {
   "cell_type": "code",
   "execution_count": 107,
   "metadata": {
    "collapsed": false,
    "slideshow": {
     "slide_type": "skip"
    }
   },
   "outputs": [
    {
     "data": {
      "text/html": [
       "<style>html, body{overflow: visible !important} .CodeMirror{min-width:105% !important;} .rise-enabled .CodeMirror, .rise-enabled .output_subarea{font-size:140%; line-height:1.2; overflow: visible;} .output_subarea pre{width:110%}</style>"
      ],
      "text/plain": [
       "<IPython.core.display.HTML object>"
      ]
     },
     "execution_count": 107,
     "metadata": {},
     "output_type": "execute_result"
    }
   ],
   "source": [
    "%matplotlib inline\n",
    "from preamble import * # Ignore, this is just to make code cleaner\n",
    "HTML('''<style>html, body{overflow: visible !important} .CodeMirror{min-width:105% !important;} .rise-enabled .CodeMirror, .rise-enabled .output_subarea{font-size:140%; line-height:1.2; overflow: visible;} .output_subarea pre{width:110%}</style>''') # For slides"
   ]
  },
  {
   "cell_type": "markdown",
   "metadata": {
    "nbpresent": {
     "id": "22990c96-6359-4864-bfc4-eb4c3c5a1ec1"
    },
    "slideshow": {
     "slide_type": "slide"
    }
   },
   "source": [
    "## Authentication\n",
    "\n",
    "* Create an OpenML account (free) on http://www.openml.org. \n",
    "* After logging in, open your account page (avatar on the top right)\n",
    "* Open 'Account Settings', then 'API authentication' to find your API key.\n",
    "\n",
    "There are two ways to authenticate:  \n",
    "\n",
    "* Create a plain text file `~/.openml/config` with the line 'apikey=MYKEY', replacing MYKEY with your API key.\n",
    "* Run the code below, replacing 'MYKEY' with your API key."
   ]
  },
  {
   "cell_type": "code",
   "execution_count": 82,
   "metadata": {
    "collapsed": false,
    "nbpresent": {
     "id": "c6d14fe7-bdc6-45f4-bae3-17e0e612b9d4"
    },
    "slideshow": {
     "slide_type": "-"
    }
   },
   "outputs": [],
   "source": [
    "# Uncomment and run this to authenticate. Don't share your API key!\n",
    "# oml.config.apikey = os.environ.get('OPENMLKEY','MYKEY')"
   ]
  },
  {
   "cell_type": "markdown",
   "metadata": {
    "nbpresent": {
     "id": "e4f0afda-8f78-4162-b196-b12399a65a5a"
    },
    "slideshow": {
     "slide_type": "slide"
    }
   },
   "source": [
    "# Data sets\n",
    "We can list, select, and download all OpenML datasets"
   ]
  },
  {
   "cell_type": "markdown",
   "metadata": {
    "slideshow": {
     "slide_type": "subslide"
    }
   },
   "source": [
    "### List datasets"
   ]
  },
  {
   "cell_type": "code",
   "execution_count": 83,
   "metadata": {
    "collapsed": false,
    "nbpresent": {
     "id": "1f22460f-b6da-4e90-9437-336b84527224"
    }
   },
   "outputs": [
    {
     "name": "stdout",
     "output_type": "stream",
     "text": [
      "First 10 of 19492 datasets...\n"
     ]
    },
    {
     "data": {
      "text/html": [
       "<div>\n",
       "<table border=\"1\" class=\"dataframe\">\n",
       "  <thead>\n",
       "    <tr style=\"text-align: right;\">\n",
       "      <th></th>\n",
       "      <th>did</th>\n",
       "      <th>name</th>\n",
       "      <th>NumberOfInstances</th>\n",
       "      <th>NumberOfFeatures</th>\n",
       "      <th>NumberOfClasses</th>\n",
       "    </tr>\n",
       "  </thead>\n",
       "  <tbody>\n",
       "    <tr>\n",
       "      <th>1</th>\n",
       "      <td>1</td>\n",
       "      <td>anneal</td>\n",
       "      <td>898</td>\n",
       "      <td>39</td>\n",
       "      <td>6</td>\n",
       "    </tr>\n",
       "    <tr>\n",
       "      <th>2</th>\n",
       "      <td>2</td>\n",
       "      <td>anneal</td>\n",
       "      <td>898</td>\n",
       "      <td>39</td>\n",
       "      <td>6</td>\n",
       "    </tr>\n",
       "    <tr>\n",
       "      <th>3</th>\n",
       "      <td>3</td>\n",
       "      <td>kr-vs-kp</td>\n",
       "      <td>3196</td>\n",
       "      <td>37</td>\n",
       "      <td>2</td>\n",
       "    </tr>\n",
       "    <tr>\n",
       "      <th>4</th>\n",
       "      <td>4</td>\n",
       "      <td>labor</td>\n",
       "      <td>57</td>\n",
       "      <td>17</td>\n",
       "      <td>2</td>\n",
       "    </tr>\n",
       "    <tr>\n",
       "      <th>5</th>\n",
       "      <td>5</td>\n",
       "      <td>arrhythmia</td>\n",
       "      <td>452</td>\n",
       "      <td>280</td>\n",
       "      <td>16</td>\n",
       "    </tr>\n",
       "    <tr>\n",
       "      <th>6</th>\n",
       "      <td>6</td>\n",
       "      <td>letter</td>\n",
       "      <td>20000</td>\n",
       "      <td>17</td>\n",
       "      <td>26</td>\n",
       "    </tr>\n",
       "    <tr>\n",
       "      <th>7</th>\n",
       "      <td>7</td>\n",
       "      <td>audiology</td>\n",
       "      <td>226</td>\n",
       "      <td>70</td>\n",
       "      <td>24</td>\n",
       "    </tr>\n",
       "    <tr>\n",
       "      <th>8</th>\n",
       "      <td>8</td>\n",
       "      <td>liver-disorders</td>\n",
       "      <td>345</td>\n",
       "      <td>7</td>\n",
       "      <td>-1</td>\n",
       "    </tr>\n",
       "    <tr>\n",
       "      <th>9</th>\n",
       "      <td>9</td>\n",
       "      <td>autos</td>\n",
       "      <td>205</td>\n",
       "      <td>26</td>\n",
       "      <td>7</td>\n",
       "    </tr>\n",
       "    <tr>\n",
       "      <th>10</th>\n",
       "      <td>10</td>\n",
       "      <td>lymph</td>\n",
       "      <td>148</td>\n",
       "      <td>19</td>\n",
       "      <td>4</td>\n",
       "    </tr>\n",
       "  </tbody>\n",
       "</table>\n",
       "</div>"
      ],
      "text/plain": [
       "    did             name  NumberOfInstances  NumberOfFeatures  NumberOfClasses\n",
       "1     1           anneal                898                39                6\n",
       "2     2           anneal                898                39                6\n",
       "3     3         kr-vs-kp               3196                37                2\n",
       "4     4            labor                 57                17                2\n",
       "5     5       arrhythmia                452               280               16\n",
       "6     6           letter              20000                17               26\n",
       "7     7        audiology                226                70               24\n",
       "8     8  liver-disorders                345                 7               -1\n",
       "9     9            autos                205                26                7\n",
       "10   10            lymph                148                19                4"
      ]
     },
     "execution_count": 83,
     "metadata": {},
     "output_type": "execute_result"
    }
   ],
   "source": [
    "datalist = oml.datasets.list_datasets() # Returns a dict\n",
    "datalist = pd.DataFrame.from_dict(datalist, orient='index') # Create a DataFrame\n",
    "print(\"First 10 of %s datasets...\" % len(datalist))\n",
    "datalist[:10][['did','name','NumberOfInstances',\n",
    "               'NumberOfFeatures','NumberOfClasses']]"
   ]
  },
  {
   "cell_type": "markdown",
   "metadata": {
    "slideshow": {
     "slide_type": "subslide"
    }
   },
   "source": [
    "There are many properties that we can query"
   ]
  },
  {
   "cell_type": "code",
   "execution_count": 98,
   "metadata": {
    "collapsed": false
   },
   "outputs": [
    {
     "data": {
      "text/plain": [
       "['name',\n",
       " 'did',\n",
       " 'MinorityClassSize',\n",
       " 'NumberOfInstances',\n",
       " 'NumberOfFeatures',\n",
       " 'NumberOfInstancesWithMissingValues',\n",
       " 'NumberOfSymbolicFeatures',\n",
       " 'status',\n",
       " 'NumberOfClasses',\n",
       " 'NumberOfNumericFeatures',\n",
       " 'format',\n",
       " 'NumberOfMissingValues',\n",
       " 'MajorityClassSize',\n",
       " 'MaxNominalAttDistinctValues']"
      ]
     },
     "execution_count": 98,
     "metadata": {},
     "output_type": "execute_result"
    }
   ],
   "source": [
    "list(datalist)\n",
    "datalist = datalist[['did','name','NumberOfInstances',\n",
    "               'NumberOfFeatures','NumberOfClasses']]"
   ]
  },
  {
   "cell_type": "markdown",
   "metadata": {
    "slideshow": {
     "slide_type": "subslide"
    }
   },
   "source": [
    "and we can filter or sort on all of them"
   ]
  },
  {
   "cell_type": "code",
   "execution_count": 100,
   "metadata": {
    "collapsed": false,
    "nbpresent": {
     "id": "7429ccf1-fe43-49e9-8239-54601a7f974d"
    }
   },
   "outputs": [
    {
     "data": {
      "text/html": [
       "<div>\n",
       "<table border=\"1\" class=\"dataframe\">\n",
       "  <thead>\n",
       "    <tr style=\"text-align: right;\">\n",
       "      <th></th>\n",
       "      <th>did</th>\n",
       "      <th>name</th>\n",
       "      <th>NumberOfInstances</th>\n",
       "      <th>NumberOfFeatures</th>\n",
       "      <th>NumberOfClasses</th>\n",
       "    </tr>\n",
       "  </thead>\n",
       "  <tbody>\n",
       "    <tr>\n",
       "      <th>23515</th>\n",
       "      <td>23515</td>\n",
       "      <td>sulfur</td>\n",
       "      <td>10081</td>\n",
       "      <td>7</td>\n",
       "      <td>-1</td>\n",
       "    </tr>\n",
       "    <tr>\n",
       "      <th>372</th>\n",
       "      <td>372</td>\n",
       "      <td>internet_usage</td>\n",
       "      <td>10108</td>\n",
       "      <td>72</td>\n",
       "      <td>46</td>\n",
       "    </tr>\n",
       "    <tr>\n",
       "      <th>981</th>\n",
       "      <td>981</td>\n",
       "      <td>kdd_internet_usage</td>\n",
       "      <td>10108</td>\n",
       "      <td>69</td>\n",
       "      <td>2</td>\n",
       "    </tr>\n",
       "    <tr>\n",
       "      <th>1536</th>\n",
       "      <td>1536</td>\n",
       "      <td>volcanoes-b6</td>\n",
       "      <td>10130</td>\n",
       "      <td>4</td>\n",
       "      <td>5</td>\n",
       "    </tr>\n",
       "    <tr>\n",
       "      <th>4562</th>\n",
       "      <td>4562</td>\n",
       "      <td>InternetUsage</td>\n",
       "      <td>10168</td>\n",
       "      <td>72</td>\n",
       "      <td>-1</td>\n",
       "    </tr>\n",
       "    <tr>\n",
       "      <th>1531</th>\n",
       "      <td>1531</td>\n",
       "      <td>volcanoes-b1</td>\n",
       "      <td>10176</td>\n",
       "      <td>4</td>\n",
       "      <td>5</td>\n",
       "    </tr>\n",
       "    <tr>\n",
       "      <th>1534</th>\n",
       "      <td>1534</td>\n",
       "      <td>volcanoes-b4</td>\n",
       "      <td>10190</td>\n",
       "      <td>4</td>\n",
       "      <td>5</td>\n",
       "    </tr>\n",
       "    <tr>\n",
       "      <th>1459</th>\n",
       "      <td>1459</td>\n",
       "      <td>artificial-characters</td>\n",
       "      <td>10218</td>\n",
       "      <td>8</td>\n",
       "      <td>10</td>\n",
       "    </tr>\n",
       "    <tr>\n",
       "      <th>1478</th>\n",
       "      <td>1478</td>\n",
       "      <td>har</td>\n",
       "      <td>10299</td>\n",
       "      <td>562</td>\n",
       "      <td>6</td>\n",
       "    </tr>\n",
       "    <tr>\n",
       "      <th>1533</th>\n",
       "      <td>1533</td>\n",
       "      <td>volcanoes-b3</td>\n",
       "      <td>10386</td>\n",
       "      <td>4</td>\n",
       "      <td>5</td>\n",
       "    </tr>\n",
       "    <tr>\n",
       "      <th>1532</th>\n",
       "      <td>1532</td>\n",
       "      <td>volcanoes-b2</td>\n",
       "      <td>10668</td>\n",
       "      <td>4</td>\n",
       "      <td>5</td>\n",
       "    </tr>\n",
       "    <tr>\n",
       "      <th>1053</th>\n",
       "      <td>1053</td>\n",
       "      <td>jm1</td>\n",
       "      <td>10885</td>\n",
       "      <td>22</td>\n",
       "      <td>2</td>\n",
       "    </tr>\n",
       "    <tr>\n",
       "      <th>1414</th>\n",
       "      <td>1414</td>\n",
       "      <td>Kaggle_bike_sharing_demand_challange</td>\n",
       "      <td>10886</td>\n",
       "      <td>12</td>\n",
       "      <td>-1</td>\n",
       "    </tr>\n",
       "    <tr>\n",
       "      <th>1044</th>\n",
       "      <td>1044</td>\n",
       "      <td>eye_movements</td>\n",
       "      <td>10936</td>\n",
       "      <td>28</td>\n",
       "      <td>3</td>\n",
       "    </tr>\n",
       "    <tr>\n",
       "      <th>1019</th>\n",
       "      <td>1019</td>\n",
       "      <td>pendigits</td>\n",
       "      <td>10992</td>\n",
       "      <td>17</td>\n",
       "      <td>2</td>\n",
       "    </tr>\n",
       "    <tr>\n",
       "      <th>32</th>\n",
       "      <td>32</td>\n",
       "      <td>pendigits</td>\n",
       "      <td>10992</td>\n",
       "      <td>17</td>\n",
       "      <td>10</td>\n",
       "    </tr>\n",
       "    <tr>\n",
       "      <th>4534</th>\n",
       "      <td>4534</td>\n",
       "      <td>PhishingWebsites</td>\n",
       "      <td>11055</td>\n",
       "      <td>31</td>\n",
       "      <td>2</td>\n",
       "    </tr>\n",
       "    <tr>\n",
       "      <th>399</th>\n",
       "      <td>399</td>\n",
       "      <td>ohscal.wc</td>\n",
       "      <td>11162</td>\n",
       "      <td>11466</td>\n",
       "      <td>10</td>\n",
       "    </tr>\n",
       "    <tr>\n",
       "      <th>310</th>\n",
       "      <td>310</td>\n",
       "      <td>mammography</td>\n",
       "      <td>11183</td>\n",
       "      <td>7</td>\n",
       "      <td>2</td>\n",
       "    </tr>\n",
       "    <tr>\n",
       "      <th>1568</th>\n",
       "      <td>1568</td>\n",
       "      <td>nursery</td>\n",
       "      <td>12958</td>\n",
       "      <td>9</td>\n",
       "      <td>4</td>\n",
       "    </tr>\n",
       "  </tbody>\n",
       "</table>\n",
       "</div>"
      ],
      "text/plain": [
       "         did                                  name  NumberOfInstances  \\\n",
       "23515  23515                                sulfur              10081   \n",
       "372      372                        internet_usage              10108   \n",
       "981      981                    kdd_internet_usage              10108   \n",
       "1536    1536                          volcanoes-b6              10130   \n",
       "4562    4562                         InternetUsage              10168   \n",
       "1531    1531                          volcanoes-b1              10176   \n",
       "1534    1534                          volcanoes-b4              10190   \n",
       "1459    1459                 artificial-characters              10218   \n",
       "1478    1478                                   har              10299   \n",
       "1533    1533                          volcanoes-b3              10386   \n",
       "1532    1532                          volcanoes-b2              10668   \n",
       "1053    1053                                   jm1              10885   \n",
       "1414    1414  Kaggle_bike_sharing_demand_challange              10886   \n",
       "1044    1044                         eye_movements              10936   \n",
       "1019    1019                             pendigits              10992   \n",
       "32        32                             pendigits              10992   \n",
       "4534    4534                      PhishingWebsites              11055   \n",
       "399      399                             ohscal.wc              11162   \n",
       "310      310                           mammography              11183   \n",
       "1568    1568                               nursery              12958   \n",
       "\n",
       "       NumberOfFeatures  NumberOfClasses  \n",
       "23515                 7               -1  \n",
       "372                  72               46  \n",
       "981                  69                2  \n",
       "1536                  4                5  \n",
       "4562                 72               -1  \n",
       "1531                  4                5  \n",
       "1534                  4                5  \n",
       "1459                  8               10  \n",
       "1478                562                6  \n",
       "1533                  4                5  \n",
       "1532                  4                5  \n",
       "1053                 22                2  \n",
       "1414                 12               -1  \n",
       "1044                 28                3  \n",
       "1019                 17                2  \n",
       "32                   17               10  \n",
       "4534                 31                2  \n",
       "399               11466               10  \n",
       "310                   7                2  \n",
       "1568                  9                4  "
      ]
     },
     "execution_count": 100,
     "metadata": {},
     "output_type": "execute_result"
    }
   ],
   "source": [
    "datalist[datalist.NumberOfInstances>10000\n",
    "        ].sort(['NumberOfInstances'])[:20]"
   ]
  },
  {
   "cell_type": "markdown",
   "metadata": {
    "slideshow": {
     "slide_type": "subslide"
    }
   },
   "source": [
    "or find specific ones"
   ]
  },
  {
   "cell_type": "code",
   "execution_count": 104,
   "metadata": {
    "collapsed": false
   },
   "outputs": [
    {
     "data": {
      "text/html": [
       "<div>\n",
       "<table border=\"1\" class=\"dataframe\">\n",
       "  <thead>\n",
       "    <tr style=\"text-align: right;\">\n",
       "      <th></th>\n",
       "      <th>did</th>\n",
       "      <th>name</th>\n",
       "      <th>NumberOfInstances</th>\n",
       "      <th>NumberOfFeatures</th>\n",
       "      <th>NumberOfClasses</th>\n",
       "    </tr>\n",
       "  </thead>\n",
       "  <tbody>\n",
       "    <tr>\n",
       "      <th>1471</th>\n",
       "      <td>1471</td>\n",
       "      <td>eeg-eye-state</td>\n",
       "      <td>14980</td>\n",
       "      <td>15</td>\n",
       "      <td>2</td>\n",
       "    </tr>\n",
       "  </tbody>\n",
       "</table>\n",
       "</div>"
      ],
      "text/plain": [
       "       did           name  NumberOfInstances  NumberOfFeatures  \\\n",
       "1471  1471  eeg-eye-state              14980                15   \n",
       "\n",
       "      NumberOfClasses  \n",
       "1471                2  "
      ]
     },
     "execution_count": 104,
     "metadata": {},
     "output_type": "execute_result"
    }
   ],
   "source": [
    "datalist.query('name == \"eeg-eye-state\"')"
   ]
  },
  {
   "cell_type": "code",
   "execution_count": 105,
   "metadata": {
    "collapsed": false
   },
   "outputs": [
    {
     "data": {
      "text/html": [
       "<div>\n",
       "<table border=\"1\" class=\"dataframe\">\n",
       "  <thead>\n",
       "    <tr style=\"text-align: right;\">\n",
       "      <th></th>\n",
       "      <th>did</th>\n",
       "      <th>name</th>\n",
       "      <th>NumberOfInstances</th>\n",
       "      <th>NumberOfFeatures</th>\n",
       "      <th>NumberOfClasses</th>\n",
       "    </tr>\n",
       "  </thead>\n",
       "  <tbody>\n",
       "    <tr>\n",
       "      <th>1491</th>\n",
       "      <td>1491</td>\n",
       "      <td>one-hundred-plants-margin</td>\n",
       "      <td>1600</td>\n",
       "      <td>65</td>\n",
       "      <td>100</td>\n",
       "    </tr>\n",
       "    <tr>\n",
       "      <th>1492</th>\n",
       "      <td>1492</td>\n",
       "      <td>one-hundred-plants-shape</td>\n",
       "      <td>1600</td>\n",
       "      <td>65</td>\n",
       "      <td>100</td>\n",
       "    </tr>\n",
       "    <tr>\n",
       "      <th>1493</th>\n",
       "      <td>1493</td>\n",
       "      <td>one-hundred-plants-texture</td>\n",
       "      <td>1599</td>\n",
       "      <td>65</td>\n",
       "      <td>100</td>\n",
       "    </tr>\n",
       "    <tr>\n",
       "      <th>4546</th>\n",
       "      <td>4546</td>\n",
       "      <td>Plants</td>\n",
       "      <td>44940</td>\n",
       "      <td>16</td>\n",
       "      <td>57</td>\n",
       "    </tr>\n",
       "    <tr>\n",
       "      <th>4552</th>\n",
       "      <td>4552</td>\n",
       "      <td>BachChoralHarmony</td>\n",
       "      <td>5665</td>\n",
       "      <td>17</td>\n",
       "      <td>102</td>\n",
       "    </tr>\n",
       "  </tbody>\n",
       "</table>\n",
       "</div>"
      ],
      "text/plain": [
       "       did                        name  NumberOfInstances  NumberOfFeatures  \\\n",
       "1491  1491   one-hundred-plants-margin               1600                65   \n",
       "1492  1492    one-hundred-plants-shape               1600                65   \n",
       "1493  1493  one-hundred-plants-texture               1599                65   \n",
       "4546  4546                      Plants              44940                16   \n",
       "4552  4552           BachChoralHarmony               5665                17   \n",
       "\n",
       "      NumberOfClasses  \n",
       "1491              100  \n",
       "1492              100  \n",
       "1493              100  \n",
       "4546               57  \n",
       "4552              102  "
      ]
     },
     "execution_count": 105,
     "metadata": {},
     "output_type": "execute_result"
    }
   ],
   "source": [
    "datalist.query('NumberOfClasses > 50')"
   ]
  },
  {
   "cell_type": "markdown",
   "metadata": {
    "nbpresent": {
     "id": "7b58c1f7-3484-4e26-b6b5-67ed6f99b9e9"
    },
    "slideshow": {
     "slide_type": "subslide"
    }
   },
   "source": [
    "Download a specific dataset. This is done based on the dataset ID (called 'did')."
   ]
  },
  {
   "cell_type": "code",
   "execution_count": 87,
   "metadata": {
    "collapsed": false,
    "nbpresent": {
     "id": "d377efff-2484-4ac3-8706-6434644949fd"
    }
   },
   "outputs": [
    {
     "name": "stdout",
     "output_type": "stream",
     "text": [
      "This is dataset 'eeg-eye-state', the target feature is 'Class'\n",
      "URL: http://www.openml.org/data/download/1587924/phplE7q6h\n",
      "**Author**: Oliver Roesler, it12148'@'lehre.dhbw-stuttgart.de  \n",
      "**Source**: [UCI](https://archive.ics.uci.edu/ml/datasets/EEG+Eye+State), Baden-Wuerttemberg, Cooperative State University (DHBW), Stuttgart, Germany  \n",
      "**Please cite**:   \n",
      "\n",
      "All data is from one continuous EEG measurement with the Emotiv EEG Neuroheadset. The duration of the measurement was 117 seconds. The eye state was detected via a camera during the EEG measurement and added later manually to the file after analysing the video fr\n"
     ]
    }
   ],
   "source": [
    "dataset = oml.datasets.get_dataset(1471)\n",
    "\n",
    "print(\"This is dataset '%s', the target feature is '%s'\" % \n",
    "      (dataset.name, dataset.default_target_attribute))\n",
    "print(\"URL: %s\" % dataset.url)\n",
    "print(dataset.description[:500])"
   ]
  },
  {
   "cell_type": "markdown",
   "metadata": {
    "nbpresent": {
     "id": "a80f9990-e073-48e6-9df3-4e27f5db74f7"
    },
    "slideshow": {
     "slide_type": "subslide"
    }
   },
   "source": [
    "Create a DataFrame"
   ]
  },
  {
   "cell_type": "code",
   "execution_count": 88,
   "metadata": {
    "collapsed": false,
    "nbpresent": {
     "id": "ab60383f-fc6d-4ca0-80f7-55ece02a0ac4"
    }
   },
   "outputs": [
    {
     "name": "stdout",
     "output_type": "stream",
     "text": [
      "        V1       V2       V3       V4  ...        V12      V13      V14  class\n",
      "0  4329.23  4009.23  4289.23  4148.21  ...    4280.51  4635.90  4393.85      0\n",
      "1  4324.62  4004.62  4293.85  4148.72  ...    4279.49  4632.82  4384.10      0\n",
      "2  4327.69  4006.67  4295.38  4156.41  ...    4282.05  4628.72  4389.23      0\n",
      "3  4328.72  4011.79  4296.41  4155.90  ...    4287.69  4632.31  4396.41      0\n",
      "4  4326.15  4011.79  4292.31  4151.28  ...    4288.21  4632.82  4398.46      0\n",
      "5  4321.03  4004.62  4284.10  4153.33  ...    4281.03  4628.21  4389.74      0\n",
      "6  4319.49  4001.03  4280.51  4151.79  ...    4269.74  4625.13  4378.46      0\n",
      "7  4325.64  4006.67  4278.46  4143.08  ...    4266.67  4622.05  4380.51      0\n",
      "8  4326.15  4010.77  4276.41  4139.49  ...    4273.85  4627.18  4389.74      0\n",
      "9  4326.15  4011.28  4276.92  4142.05  ...    4277.95  4637.44  4393.33      0\n",
      "\n",
      "[10 rows x 15 columns]\n"
     ]
    }
   ],
   "source": [
    "X, y, attribute_names = dataset.get_data(\n",
    "    target=dataset.default_target_attribute, \n",
    "    return_attribute_names=True)\n",
    "eeg = pd.DataFrame(X, columns=attribute_names)\n",
    "eeg['class'] = y\n",
    "print(eeg[:10])"
   ]
  },
  {
   "cell_type": "code",
   "execution_count": null,
   "metadata": {
    "collapsed": true
   },
   "outputs": [],
   "source": [
    "sm = scatter_matrix(eeg, c=eeg['class'], figsize=(10, 10), \n",
    "                  marker='o', hist_kwds={'bins': 20}, \n",
    "                  alpha=.8, cmap='plasma')"
   ]
  },
  {
   "cell_type": "markdown",
   "metadata": {
    "nbpresent": {
     "id": "e5126f2b-6a3b-48a4-bd2d-9fa1bf76c8d4"
    },
    "slideshow": {
     "slide_type": "slide"
    }
   },
   "source": [
    "## Train models\n",
    "Train a scikit-learn model on the data manually"
   ]
  },
  {
   "cell_type": "code",
   "execution_count": 89,
   "metadata": {
    "collapsed": false,
    "nbpresent": {
     "id": "e99e1923-f713-480b-aeb7-317f1ca9f21c"
    }
   },
   "outputs": [
    {
     "data": {
      "text/plain": [
       "KNeighborsClassifier(algorithm='auto', leaf_size=30, metric='minkowski',\n",
       "           metric_params=None, n_jobs=1, n_neighbors=1, p=2,\n",
       "           weights='uniform')"
      ]
     },
     "execution_count": 89,
     "metadata": {},
     "output_type": "execute_result"
    }
   ],
   "source": [
    "from sklearn import neighbors\n",
    "\n",
    "dataset = oml.datasets.get_dataset(1471)\n",
    "X, y = dataset.get_data(target=dataset.default_target_attribute)\n",
    "clf = neighbors.KNeighborsClassifier(n_neighbors=1)\n",
    "clf.fit(X, y)"
   ]
  },
  {
   "cell_type": "markdown",
   "metadata": {
    "nbpresent": {
     "id": "eeb5fce8-4073-40c3-ab2b-a211bc77b1d4"
    },
    "slideshow": {
     "slide_type": "skip"
    }
   },
   "source": [
    "You can also ask which features are categorical to do your own encoding"
   ]
  },
  {
   "cell_type": "code",
   "execution_count": 113,
   "metadata": {
    "collapsed": false,
    "nbpresent": {
     "id": "a32e47f7-6d88-4277-ac5d-fb3f62012860"
    },
    "slideshow": {
     "slide_type": "skip"
    }
   },
   "outputs": [
    {
     "name": "stdout",
     "output_type": "stream",
     "text": [
      "Categorical features: [True, True, True, True, True, True, True, True, False, False, True, True, True, True, True, True, True, False]\n"
     ]
    },
    {
     "data": {
      "text/plain": [
       "KNeighborsClassifier(algorithm='auto', leaf_size=30, metric='minkowski',\n",
       "           metric_params=None, n_jobs=1, n_neighbors=5, p=2,\n",
       "           weights='uniform')"
      ]
     },
     "execution_count": 113,
     "metadata": {},
     "output_type": "execute_result"
    }
   ],
   "source": [
    "from sklearn import preprocessing\n",
    "dataset = oml.datasets.get_dataset(10)\n",
    "X, y, categorical = dataset.get_data(\n",
    "    target=dataset.default_target_attribute,\n",
    "    return_categorical_indicator=True)\n",
    "print(\"Categorical features: %s\" % categorical)\n",
    "enc = preprocessing.OneHotEncoder(categorical_features=categorical)\n",
    "X = enc.fit_transform(X)\n",
    "clf.fit(X, y)"
   ]
  },
  {
   "cell_type": "markdown",
   "metadata": {
    "nbpresent": {
     "id": "ba1405dc-32b8-4518-9904-c54b0cae6757"
    },
    "slideshow": {
     "slide_type": "slide"
    }
   },
   "source": [
    "# Tasks"
   ]
  },
  {
   "cell_type": "markdown",
   "metadata": {
    "nbpresent": {
     "id": "44034957-dd02-4c90-8540-b58ef4d1dfb4"
    }
   },
   "source": [
    "To run benchmarks consistently (also across studies and tools), OpenML offers Tasks, which include specific train-test splits and other information to define a scientific task. Tasks are typically created via the website by the dataset provider."
   ]
  },
  {
   "cell_type": "markdown",
   "metadata": {
    "nbpresent": {
     "id": "80b6e0fc-16cb-40a4-bc1c-c6e3a367db71"
    },
    "slideshow": {
     "slide_type": "subslide"
    }
   },
   "source": [
    "## Listing tasks"
   ]
  },
  {
   "cell_type": "code",
   "execution_count": 91,
   "metadata": {
    "collapsed": false,
    "nbpresent": {
     "id": "6458d620-c77c-4d30-ab93-49981ab7156a"
    }
   },
   "outputs": [
    {
     "name": "stdout",
     "output_type": "stream",
     "text": [
      "First 5 of 5000 tasks:\n",
      "Index(['MajorityClassSize', 'MaxNominalAttDistinctValues', 'MinorityClassSize',\n",
      "       'NumberOfClasses', 'NumberOfFeatures', 'NumberOfInstances',\n",
      "       'NumberOfInstancesWithMissingValues', 'NumberOfMissingValues',\n",
      "       'NumberOfNumericFeatures', 'NumberOfSymbolicFeatures', 'cost_matrix',\n",
      "       'did', 'estimation_procedure', 'evaluation_measures', 'name',\n",
      "       'number_samples', 'quality_measure', 'source_data',\n",
      "       'source_data_labeled', 'status', 'target_feature',\n",
      "       'target_feature_event', 'target_feature_left', 'target_feature_right',\n",
      "       'target_value', 'task_type', 'tid', 'time_limit', 'ttid'],\n",
      "      dtype='object')\n"
     ]
    }
   ],
   "source": [
    "task_list = oml.tasks.list_tasks(size=5000) # Get first 5000 tasks\n",
    "\n",
    "mytasks = pd.DataFrame(task_list).transpose()\n",
    "print(\"First 5 of %s tasks:\" % len(mytasks))\n",
    "print(mytasks.columns)"
   ]
  },
  {
   "cell_type": "code",
   "execution_count": 92,
   "metadata": {
    "collapsed": false,
    "slideshow": {
     "slide_type": "subslide"
    }
   },
   "outputs": [
    {
     "name": "stdout",
     "output_type": "stream",
     "text": [
      "  tid did        name                  task_type     estimation_procedure  \\\n",
      "1   1   1      anneal  Supervised Classification  10-fold Crossvalidation   \n",
      "2   2   2      anneal  Supervised Classification  10-fold Crossvalidation   \n",
      "3   3   3    kr-vs-kp  Supervised Classification  10-fold Crossvalidation   \n",
      "4   4   4       labor  Supervised Classification  10-fold Crossvalidation   \n",
      "5   5   5  arrhythmia  Supervised Classification  10-fold Crossvalidation   \n",
      "\n",
      "   evaluation_measures  \n",
      "1  predictive_accuracy  \n",
      "2  predictive_accuracy  \n",
      "3  predictive_accuracy  \n",
      "4  predictive_accuracy  \n",
      "5  predictive_accuracy  \n"
     ]
    }
   ],
   "source": [
    "mytasks = mytasks[['tid','did','name','task_type','estimation_procedure','evaluation_measures']]\n",
    "print(mytasks.head())"
   ]
  },
  {
   "cell_type": "markdown",
   "metadata": {
    "slideshow": {
     "slide_type": "subslide"
    }
   },
   "source": [
    "Search for the tasks you need"
   ]
  },
  {
   "cell_type": "code",
   "execution_count": 93,
   "metadata": {
    "collapsed": false
   },
   "outputs": [
    {
     "name": "stdout",
     "output_type": "stream",
     "text": [
      "         tid   did           name                  task_type  \\\n",
      "9983    9983  1471  eeg-eye-state  Supervised Classification   \n",
      "14951  14951  1471  eeg-eye-state  Supervised Classification   \n",
      "\n",
      "          estimation_procedure  evaluation_measures  \n",
      "9983   10-fold Crossvalidation  predictive_accuracy  \n",
      "14951  10-fold Crossvalidation                  NaN  \n"
     ]
    }
   ],
   "source": [
    "print(mytasks.query('name==\"eeg-eye-state\"'))"
   ]
  },
  {
   "cell_type": "markdown",
   "metadata": {
    "nbpresent": {
     "id": "fdd2d347-6239-4718-ae3a-9385f01fa416"
    },
    "slideshow": {
     "slide_type": "subslide"
    }
   },
   "source": [
    "## Download tasks"
   ]
  },
  {
   "cell_type": "code",
   "execution_count": 94,
   "metadata": {
    "collapsed": false,
    "nbpresent": {
     "id": "8d954b88-96dc-48d5-ad06-524d040a0324"
    }
   },
   "outputs": [
    {
     "name": "stdout",
     "output_type": "stream",
     "text": [
      "{'class_labels': ['1', '2'],\n",
      " 'cost_matrix': None,\n",
      " 'dataset_id': 1471,\n",
      " 'estimation_parameters': {'number_folds': '10',\n",
      "                           'number_repeats': '1',\n",
      "                           'percentage': '',\n",
      "                           'stratified_sampling': 'true'},\n",
      " 'estimation_procedure': {'data_splits_url': 'http://www.openml.org/api_splits/get/14951/Task_14951_splits.arff',\n",
      "                          'parameters': {'number_folds': '10',\n",
      "                                         'number_repeats': '1',\n",
      "                                         'percentage': '',\n",
      "                                         'stratified_sampling': 'true'},\n",
      "                          'type': 'crossvalidation'},\n",
      " 'evaluation_measure': None,\n",
      " 'target_name': 'Class',\n",
      " 'task_id': 14951,\n",
      " 'task_type': 'Supervised Classification'}\n"
     ]
    }
   ],
   "source": [
    "task = oml.tasks.get_task(14951)\n",
    "pprint(vars(task))"
   ]
  },
  {
   "cell_type": "markdown",
   "metadata": {
    "nbpresent": {
     "id": "a95d5c04-453b-4840-9cdf-1c248b20d35e"
    },
    "slideshow": {
     "slide_type": "slide"
    }
   },
   "source": [
    "# Runs: Train models on tasks\n",
    "We can run (many) scikit-learn algorithms on (many) OpenML tasks."
   ]
  },
  {
   "cell_type": "code",
   "execution_count": 95,
   "metadata": {
    "collapsed": false,
    "nbpresent": {
     "id": "d1f4d4d9-8d20-4bb5-b852-f5eeff6ab8ed"
    },
    "slideshow": {
     "slide_type": "subslide"
    }
   },
   "outputs": [
    {
     "data": {
      "text/plain": [
       "KNeighborsClassifier(algorithm='auto', leaf_size=30, metric='minkowski',\n",
       "           metric_params=None, n_jobs=1, n_neighbors=1, p=2,\n",
       "           weights='uniform')"
      ]
     },
     "execution_count": 95,
     "metadata": {},
     "output_type": "execute_result"
    }
   ],
   "source": [
    "task = oml.tasks.get_task(14951)\n",
    "clf = neighbors.KNeighborsClassifier(n_neighbors=1)\n",
    "run = oml.runs.run_task(task, clf)\n",
    "run.model"
   ]
  },
  {
   "cell_type": "markdown",
   "metadata": {
    "nbpresent": {
     "id": "a686ebf7-8eda-47af-aa86-e46d273c3712"
    },
    "slideshow": {
     "slide_type": "subslide"
    }
   },
   "source": [
    "Share the run on the OpenML server"
   ]
  },
  {
   "cell_type": "code",
   "execution_count": 96,
   "metadata": {
    "collapsed": false,
    "nbpresent": {
     "id": "367d2ee5-ca11-4372-a600-c9309f4a720e"
    }
   },
   "outputs": [
    {
     "name": "stdout",
     "output_type": "stream",
     "text": [
      "Uploaded to http://www.openml.org/r/1846462\n"
     ]
    }
   ],
   "source": [
    "myrun = run.publish()\n",
    "print(\"Uploaded to http://www.openml.org/r/\" + str(myrun.run_id))"
   ]
  },
  {
   "cell_type": "markdown",
   "metadata": {
    "nbpresent": {
     "id": "3043c7da-c8b4-4594-8abf-1f27629427a2"
    },
    "slideshow": {
     "slide_type": "slide"
    }
   },
   "source": [
    "## All together\n",
    "Train any model on any OpenML dataset and upload to OpenML in a few lines of code"
   ]
  },
  {
   "cell_type": "code",
   "execution_count": 97,
   "metadata": {
    "collapsed": false,
    "nbpresent": {
     "id": "d33fc2b4-5798-4ff1-bcb3-afc474f3e569"
    },
    "scrolled": true,
    "slideshow": {
     "slide_type": "-"
    }
   },
   "outputs": [
    {
     "name": "stdout",
     "output_type": "stream",
     "text": [
      "Uploaded to http://www.openml.org/r/1846463\n"
     ]
    }
   ],
   "source": [
    "task = oml.tasks.get_task(1527)\n",
    "clf = neighbors.KNeighborsClassifier(n_neighbors=5)\n",
    "run = oml.runs.run_task(task, clf)\n",
    "myrun = run.publish()\n",
    "print(\"Uploaded to http://www.openml.org/r/\" + str(myrun.run_id))"
   ]
  },
  {
   "cell_type": "markdown",
   "metadata": {
    "slideshow": {
     "slide_type": "slide"
    }
   },
   "source": [
    "## A Challenge\n",
    "We'll see many machine learning algorithms in this course. Try to build the best possible models on several OpenML tasks, and compare your results with the rest of the class, and learn from them. Some tasks you could try (or browse openml.org):\n",
    "\n",
    "* EEG eye state: data_id:[1471](http://www.openml.org/d/1471), task_id:[14951](http://www.openml.org/t/14951)\n",
    "* Volcanoes on Venus: data_id:[1527](http://www.openml.org/d/1527), task_id:[10103](http://www.openml.org/t/10103)\n",
    "* Walking activity: data_id:[1509](http://www.openml.org/d/1509), task_id: [9945](http://www.openml.org/t/9945), 150k instances\n",
    "* Covertype (Satellite): data_id:[150](http://www.openml.org/d/150), task_id: [218](http://www.openml.org/t/218). 500k instances\n",
    "* Higgs (Physics): data_id:[23512](http://www.openml.org/d/23512), task_id:[52950](http://www.openml.org/t/52950). 100k instances, missing values"
   ]
  },
  {
   "cell_type": "code",
   "execution_count": null,
   "metadata": {
    "collapsed": true,
    "slideshow": {
     "slide_type": "subslide"
    }
   },
   "outputs": [],
   "source": [
    "Easy benchmarking:"
   ]
  },
  {
   "cell_type": "code",
   "execution_count": 118,
   "metadata": {
    "collapsed": false,
    "slideshow": {
     "slide_type": "-"
    }
   },
   "outputs": [
    {
     "name": "stdout",
     "output_type": "stream",
     "text": [
      "kNN on eeg-eye-state: http://www.openml.org/r/1846475\n",
      "kNN on volcanoes-a1: http://www.openml.org/r/1846476\n",
      "kNN on walking-activity: http://www.openml.org/r/1846477\n"
     ]
    },
    {
     "ename": "KeyboardInterrupt",
     "evalue": "",
     "output_type": "error",
     "traceback": [
      "\u001b[0;31m---------------------------------------------------------------------------\u001b[0m",
      "\u001b[0;31mKeyboardInterrupt\u001b[0m                         Traceback (most recent call last)",
      "\u001b[0;32m<ipython-input-118-8641e2c2e45e>\u001b[0m in \u001b[0;36m<module>\u001b[0;34m()\u001b[0m\n\u001b[1;32m      3\u001b[0m     \u001b[0mdata\u001b[0m \u001b[0;34m=\u001b[0m \u001b[0moml\u001b[0m\u001b[0;34m.\u001b[0m\u001b[0mdatasets\u001b[0m\u001b[0;34m.\u001b[0m\u001b[0mget_dataset\u001b[0m\u001b[0;34m(\u001b[0m\u001b[0mtask\u001b[0m\u001b[0;34m.\u001b[0m\u001b[0mdataset_id\u001b[0m\u001b[0;34m)\u001b[0m\u001b[0;34m\u001b[0m\u001b[0m\n\u001b[1;32m      4\u001b[0m     \u001b[0mclf\u001b[0m \u001b[0;34m=\u001b[0m \u001b[0mneighbors\u001b[0m\u001b[0;34m.\u001b[0m\u001b[0mKNeighborsClassifier\u001b[0m\u001b[0;34m(\u001b[0m\u001b[0mn_neighbors\u001b[0m\u001b[0;34m=\u001b[0m\u001b[0;36m5\u001b[0m\u001b[0;34m)\u001b[0m\u001b[0;34m\u001b[0m\u001b[0m\n\u001b[0;32m----> 5\u001b[0;31m     \u001b[0mrun\u001b[0m \u001b[0;34m=\u001b[0m \u001b[0moml\u001b[0m\u001b[0;34m.\u001b[0m\u001b[0mruns\u001b[0m\u001b[0;34m.\u001b[0m\u001b[0mrun_task\u001b[0m\u001b[0;34m(\u001b[0m\u001b[0mtask\u001b[0m\u001b[0;34m,\u001b[0m \u001b[0mclf\u001b[0m\u001b[0;34m)\u001b[0m\u001b[0;34m\u001b[0m\u001b[0m\n\u001b[0m\u001b[1;32m      6\u001b[0m     \u001b[0mmyrun\u001b[0m \u001b[0;34m=\u001b[0m \u001b[0mrun\u001b[0m\u001b[0;34m.\u001b[0m\u001b[0mpublish\u001b[0m\u001b[0;34m(\u001b[0m\u001b[0;34m)\u001b[0m\u001b[0;34m\u001b[0m\u001b[0m\n\u001b[1;32m      7\u001b[0m     \u001b[0mprint\u001b[0m\u001b[0;34m(\u001b[0m\u001b[0;34m\"kNN on %s: http://www.openml.org/r/%d\"\u001b[0m \u001b[0;34m%\u001b[0m \u001b[0;34m(\u001b[0m\u001b[0mdata\u001b[0m\u001b[0;34m.\u001b[0m\u001b[0mname\u001b[0m\u001b[0;34m,\u001b[0m \u001b[0mmyrun\u001b[0m\u001b[0;34m.\u001b[0m\u001b[0mrun_id\u001b[0m\u001b[0;34m)\u001b[0m\u001b[0;34m)\u001b[0m\u001b[0;34m\u001b[0m\u001b[0m\n",
      "\u001b[0;32m/Users/joa/anaconda/lib/python3.5/site-packages/openml/runs/functions.py\u001b[0m in \u001b[0;36mrun_task\u001b[0;34m(task, model)\u001b[0m\n\u001b[1;32m     60\u001b[0m     run = OpenMLRun(task_id=task.task_id, flow_id=flow_id,\n\u001b[1;32m     61\u001b[0m                     dataset_id=dataset.dataset_id)\n\u001b[0;32m---> 62\u001b[0;31m     \u001b[0mrun\u001b[0m\u001b[0;34m.\u001b[0m\u001b[0mdata_content\u001b[0m \u001b[0;34m=\u001b[0m \u001b[0m_run_task_get_arffcontent\u001b[0m\u001b[0;34m(\u001b[0m\u001b[0mmodel\u001b[0m\u001b[0;34m,\u001b[0m \u001b[0mtask\u001b[0m\u001b[0;34m,\u001b[0m \u001b[0mclass_labels\u001b[0m\u001b[0;34m)\u001b[0m\u001b[0;34m\u001b[0m\u001b[0m\n\u001b[0m\u001b[1;32m     63\u001b[0m \u001b[0;34m\u001b[0m\u001b[0m\n\u001b[1;32m     64\u001b[0m     \u001b[0;31m# The model will not be uploaded at the moment, but used to get the\u001b[0m\u001b[0;34m\u001b[0m\u001b[0;34m\u001b[0m\u001b[0m\n",
      "\u001b[0;32m/Users/joa/anaconda/lib/python3.5/site-packages/openml/runs/functions.py\u001b[0m in \u001b[0;36m_run_task_get_arffcontent\u001b[0;34m(model, task, class_labels)\u001b[0m\n\u001b[1;32m     86\u001b[0m \u001b[0;34m\u001b[0m\u001b[0m\n\u001b[1;32m     87\u001b[0m             \u001b[0mmodel\u001b[0m\u001b[0;34m.\u001b[0m\u001b[0mfit\u001b[0m\u001b[0;34m(\u001b[0m\u001b[0mtrainX\u001b[0m\u001b[0;34m,\u001b[0m \u001b[0mtrainY\u001b[0m\u001b[0;34m)\u001b[0m\u001b[0;34m\u001b[0m\u001b[0m\n\u001b[0;32m---> 88\u001b[0;31m             \u001b[0mProbaY\u001b[0m \u001b[0;34m=\u001b[0m \u001b[0mmodel\u001b[0m\u001b[0;34m.\u001b[0m\u001b[0mpredict_proba\u001b[0m\u001b[0;34m(\u001b[0m\u001b[0mtestX\u001b[0m\u001b[0;34m)\u001b[0m\u001b[0;34m\u001b[0m\u001b[0m\n\u001b[0m\u001b[1;32m     89\u001b[0m             \u001b[0mPredY\u001b[0m \u001b[0;34m=\u001b[0m \u001b[0mmodel\u001b[0m\u001b[0;34m.\u001b[0m\u001b[0mpredict\u001b[0m\u001b[0;34m(\u001b[0m\u001b[0mtestX\u001b[0m\u001b[0;34m)\u001b[0m\u001b[0;34m\u001b[0m\u001b[0m\n\u001b[1;32m     90\u001b[0m \u001b[0;34m\u001b[0m\u001b[0m\n",
      "\u001b[0;32m/Users/joa/anaconda/lib/python3.5/site-packages/sklearn/neighbors/classification.py\u001b[0m in \u001b[0;36mpredict_proba\u001b[0;34m(self, X)\u001b[0m\n\u001b[1;32m    188\u001b[0m         \u001b[0mX\u001b[0m \u001b[0;34m=\u001b[0m \u001b[0mcheck_array\u001b[0m\u001b[0;34m(\u001b[0m\u001b[0mX\u001b[0m\u001b[0;34m,\u001b[0m \u001b[0maccept_sparse\u001b[0m\u001b[0;34m=\u001b[0m\u001b[0;34m'csr'\u001b[0m\u001b[0;34m)\u001b[0m\u001b[0;34m\u001b[0m\u001b[0m\n\u001b[1;32m    189\u001b[0m \u001b[0;34m\u001b[0m\u001b[0m\n\u001b[0;32m--> 190\u001b[0;31m         \u001b[0mneigh_dist\u001b[0m\u001b[0;34m,\u001b[0m \u001b[0mneigh_ind\u001b[0m \u001b[0;34m=\u001b[0m \u001b[0mself\u001b[0m\u001b[0;34m.\u001b[0m\u001b[0mkneighbors\u001b[0m\u001b[0;34m(\u001b[0m\u001b[0mX\u001b[0m\u001b[0;34m)\u001b[0m\u001b[0;34m\u001b[0m\u001b[0m\n\u001b[0m\u001b[1;32m    191\u001b[0m \u001b[0;34m\u001b[0m\u001b[0m\n\u001b[1;32m    192\u001b[0m         \u001b[0mclasses_\u001b[0m \u001b[0;34m=\u001b[0m \u001b[0mself\u001b[0m\u001b[0;34m.\u001b[0m\u001b[0mclasses_\u001b[0m\u001b[0;34m\u001b[0m\u001b[0m\n",
      "\u001b[0;32m/Users/joa/anaconda/lib/python3.5/site-packages/sklearn/neighbors/base.py\u001b[0m in \u001b[0;36mkneighbors\u001b[0;34m(self, X, n_neighbors, return_distance)\u001b[0m\n\u001b[1;32m    379\u001b[0m                 delayed(self._tree.query, check_pickle=False)(\n\u001b[1;32m    380\u001b[0m                     X[s], n_neighbors, return_distance)\n\u001b[0;32m--> 381\u001b[0;31m                 \u001b[0;32mfor\u001b[0m \u001b[0ms\u001b[0m \u001b[0;32min\u001b[0m \u001b[0mgen_even_slices\u001b[0m\u001b[0;34m(\u001b[0m\u001b[0mX\u001b[0m\u001b[0;34m.\u001b[0m\u001b[0mshape\u001b[0m\u001b[0;34m[\u001b[0m\u001b[0;36m0\u001b[0m\u001b[0;34m]\u001b[0m\u001b[0;34m,\u001b[0m \u001b[0mn_jobs\u001b[0m\u001b[0;34m)\u001b[0m\u001b[0;34m\u001b[0m\u001b[0m\n\u001b[0m\u001b[1;32m    382\u001b[0m             )\n\u001b[1;32m    383\u001b[0m             \u001b[0;32mif\u001b[0m \u001b[0mreturn_distance\u001b[0m\u001b[0;34m:\u001b[0m\u001b[0;34m\u001b[0m\u001b[0m\n",
      "\u001b[0;32m/Users/joa/anaconda/lib/python3.5/site-packages/sklearn/externals/joblib/parallel.py\u001b[0m in \u001b[0;36m__call__\u001b[0;34m(self, iterable)\u001b[0m\n\u001b[1;32m    756\u001b[0m             \u001b[0;31m# was dispatched. In particular this covers the edge\u001b[0m\u001b[0;34m\u001b[0m\u001b[0;34m\u001b[0m\u001b[0m\n\u001b[1;32m    757\u001b[0m             \u001b[0;31m# case of Parallel used with an exhausted iterator.\u001b[0m\u001b[0;34m\u001b[0m\u001b[0;34m\u001b[0m\u001b[0m\n\u001b[0;32m--> 758\u001b[0;31m             \u001b[0;32mwhile\u001b[0m \u001b[0mself\u001b[0m\u001b[0;34m.\u001b[0m\u001b[0mdispatch_one_batch\u001b[0m\u001b[0;34m(\u001b[0m\u001b[0miterator\u001b[0m\u001b[0;34m)\u001b[0m\u001b[0;34m:\u001b[0m\u001b[0;34m\u001b[0m\u001b[0m\n\u001b[0m\u001b[1;32m    759\u001b[0m                 \u001b[0mself\u001b[0m\u001b[0;34m.\u001b[0m\u001b[0m_iterating\u001b[0m \u001b[0;34m=\u001b[0m \u001b[0;32mTrue\u001b[0m\u001b[0;34m\u001b[0m\u001b[0m\n\u001b[1;32m    760\u001b[0m             \u001b[0;32melse\u001b[0m\u001b[0;34m:\u001b[0m\u001b[0;34m\u001b[0m\u001b[0m\n",
      "\u001b[0;32m/Users/joa/anaconda/lib/python3.5/site-packages/sklearn/externals/joblib/parallel.py\u001b[0m in \u001b[0;36mdispatch_one_batch\u001b[0;34m(self, iterator)\u001b[0m\n\u001b[1;32m    606\u001b[0m                 \u001b[0;32mreturn\u001b[0m \u001b[0;32mFalse\u001b[0m\u001b[0;34m\u001b[0m\u001b[0m\n\u001b[1;32m    607\u001b[0m             \u001b[0;32melse\u001b[0m\u001b[0;34m:\u001b[0m\u001b[0;34m\u001b[0m\u001b[0m\n\u001b[0;32m--> 608\u001b[0;31m                 \u001b[0mself\u001b[0m\u001b[0;34m.\u001b[0m\u001b[0m_dispatch\u001b[0m\u001b[0;34m(\u001b[0m\u001b[0mtasks\u001b[0m\u001b[0;34m)\u001b[0m\u001b[0;34m\u001b[0m\u001b[0m\n\u001b[0m\u001b[1;32m    609\u001b[0m                 \u001b[0;32mreturn\u001b[0m \u001b[0;32mTrue\u001b[0m\u001b[0;34m\u001b[0m\u001b[0m\n\u001b[1;32m    610\u001b[0m \u001b[0;34m\u001b[0m\u001b[0m\n",
      "\u001b[0;32m/Users/joa/anaconda/lib/python3.5/site-packages/sklearn/externals/joblib/parallel.py\u001b[0m in \u001b[0;36m_dispatch\u001b[0;34m(self, batch)\u001b[0m\n\u001b[1;32m    569\u001b[0m         \u001b[0mdispatch_timestamp\u001b[0m \u001b[0;34m=\u001b[0m \u001b[0mtime\u001b[0m\u001b[0;34m.\u001b[0m\u001b[0mtime\u001b[0m\u001b[0;34m(\u001b[0m\u001b[0;34m)\u001b[0m\u001b[0;34m\u001b[0m\u001b[0m\n\u001b[1;32m    570\u001b[0m         \u001b[0mcb\u001b[0m \u001b[0;34m=\u001b[0m \u001b[0mBatchCompletionCallBack\u001b[0m\u001b[0;34m(\u001b[0m\u001b[0mdispatch_timestamp\u001b[0m\u001b[0;34m,\u001b[0m \u001b[0mlen\u001b[0m\u001b[0;34m(\u001b[0m\u001b[0mbatch\u001b[0m\u001b[0;34m)\u001b[0m\u001b[0;34m,\u001b[0m \u001b[0mself\u001b[0m\u001b[0;34m)\u001b[0m\u001b[0;34m\u001b[0m\u001b[0m\n\u001b[0;32m--> 571\u001b[0;31m         \u001b[0mjob\u001b[0m \u001b[0;34m=\u001b[0m \u001b[0mself\u001b[0m\u001b[0;34m.\u001b[0m\u001b[0m_backend\u001b[0m\u001b[0;34m.\u001b[0m\u001b[0mapply_async\u001b[0m\u001b[0;34m(\u001b[0m\u001b[0mbatch\u001b[0m\u001b[0;34m,\u001b[0m \u001b[0mcallback\u001b[0m\u001b[0;34m=\u001b[0m\u001b[0mcb\u001b[0m\u001b[0;34m)\u001b[0m\u001b[0;34m\u001b[0m\u001b[0m\n\u001b[0m\u001b[1;32m    572\u001b[0m         \u001b[0mself\u001b[0m\u001b[0;34m.\u001b[0m\u001b[0m_jobs\u001b[0m\u001b[0;34m.\u001b[0m\u001b[0mappend\u001b[0m\u001b[0;34m(\u001b[0m\u001b[0mjob\u001b[0m\u001b[0;34m)\u001b[0m\u001b[0;34m\u001b[0m\u001b[0m\n\u001b[1;32m    573\u001b[0m \u001b[0;34m\u001b[0m\u001b[0m\n",
      "\u001b[0;32m/Users/joa/anaconda/lib/python3.5/site-packages/sklearn/externals/joblib/_parallel_backends.py\u001b[0m in \u001b[0;36mapply_async\u001b[0;34m(self, func, callback)\u001b[0m\n\u001b[1;32m    107\u001b[0m     \u001b[0;32mdef\u001b[0m \u001b[0mapply_async\u001b[0m\u001b[0;34m(\u001b[0m\u001b[0mself\u001b[0m\u001b[0;34m,\u001b[0m \u001b[0mfunc\u001b[0m\u001b[0;34m,\u001b[0m \u001b[0mcallback\u001b[0m\u001b[0;34m=\u001b[0m\u001b[0;32mNone\u001b[0m\u001b[0;34m)\u001b[0m\u001b[0;34m:\u001b[0m\u001b[0;34m\u001b[0m\u001b[0m\n\u001b[1;32m    108\u001b[0m         \u001b[0;34m\"\"\"Schedule a func to be run\"\"\"\u001b[0m\u001b[0;34m\u001b[0m\u001b[0m\n\u001b[0;32m--> 109\u001b[0;31m         \u001b[0mresult\u001b[0m \u001b[0;34m=\u001b[0m \u001b[0mImmediateResult\u001b[0m\u001b[0;34m(\u001b[0m\u001b[0mfunc\u001b[0m\u001b[0;34m)\u001b[0m\u001b[0;34m\u001b[0m\u001b[0m\n\u001b[0m\u001b[1;32m    110\u001b[0m         \u001b[0;32mif\u001b[0m \u001b[0mcallback\u001b[0m\u001b[0;34m:\u001b[0m\u001b[0;34m\u001b[0m\u001b[0m\n\u001b[1;32m    111\u001b[0m             \u001b[0mcallback\u001b[0m\u001b[0;34m(\u001b[0m\u001b[0mresult\u001b[0m\u001b[0;34m)\u001b[0m\u001b[0;34m\u001b[0m\u001b[0m\n",
      "\u001b[0;32m/Users/joa/anaconda/lib/python3.5/site-packages/sklearn/externals/joblib/_parallel_backends.py\u001b[0m in \u001b[0;36m__init__\u001b[0;34m(self, batch)\u001b[0m\n\u001b[1;32m    324\u001b[0m         \u001b[0;31m# Don't delay the application, to avoid keeping the input\u001b[0m\u001b[0;34m\u001b[0m\u001b[0;34m\u001b[0m\u001b[0m\n\u001b[1;32m    325\u001b[0m         \u001b[0;31m# arguments in memory\u001b[0m\u001b[0;34m\u001b[0m\u001b[0;34m\u001b[0m\u001b[0m\n\u001b[0;32m--> 326\u001b[0;31m         \u001b[0mself\u001b[0m\u001b[0;34m.\u001b[0m\u001b[0mresults\u001b[0m \u001b[0;34m=\u001b[0m \u001b[0mbatch\u001b[0m\u001b[0;34m(\u001b[0m\u001b[0;34m)\u001b[0m\u001b[0;34m\u001b[0m\u001b[0m\n\u001b[0m\u001b[1;32m    327\u001b[0m \u001b[0;34m\u001b[0m\u001b[0m\n\u001b[1;32m    328\u001b[0m     \u001b[0;32mdef\u001b[0m \u001b[0mget\u001b[0m\u001b[0;34m(\u001b[0m\u001b[0mself\u001b[0m\u001b[0;34m)\u001b[0m\u001b[0;34m:\u001b[0m\u001b[0;34m\u001b[0m\u001b[0m\n",
      "\u001b[0;32m/Users/joa/anaconda/lib/python3.5/site-packages/sklearn/externals/joblib/parallel.py\u001b[0m in \u001b[0;36m__call__\u001b[0;34m(self)\u001b[0m\n\u001b[1;32m    129\u001b[0m \u001b[0;34m\u001b[0m\u001b[0m\n\u001b[1;32m    130\u001b[0m     \u001b[0;32mdef\u001b[0m \u001b[0m__call__\u001b[0m\u001b[0;34m(\u001b[0m\u001b[0mself\u001b[0m\u001b[0;34m)\u001b[0m\u001b[0;34m:\u001b[0m\u001b[0;34m\u001b[0m\u001b[0m\n\u001b[0;32m--> 131\u001b[0;31m         \u001b[0;32mreturn\u001b[0m \u001b[0;34m[\u001b[0m\u001b[0mfunc\u001b[0m\u001b[0;34m(\u001b[0m\u001b[0;34m*\u001b[0m\u001b[0margs\u001b[0m\u001b[0;34m,\u001b[0m \u001b[0;34m**\u001b[0m\u001b[0mkwargs\u001b[0m\u001b[0;34m)\u001b[0m \u001b[0;32mfor\u001b[0m \u001b[0mfunc\u001b[0m\u001b[0;34m,\u001b[0m \u001b[0margs\u001b[0m\u001b[0;34m,\u001b[0m \u001b[0mkwargs\u001b[0m \u001b[0;32min\u001b[0m \u001b[0mself\u001b[0m\u001b[0;34m.\u001b[0m\u001b[0mitems\u001b[0m\u001b[0;34m]\u001b[0m\u001b[0;34m\u001b[0m\u001b[0m\n\u001b[0m\u001b[1;32m    132\u001b[0m \u001b[0;34m\u001b[0m\u001b[0m\n\u001b[1;32m    133\u001b[0m     \u001b[0;32mdef\u001b[0m \u001b[0m__len__\u001b[0m\u001b[0;34m(\u001b[0m\u001b[0mself\u001b[0m\u001b[0;34m)\u001b[0m\u001b[0;34m:\u001b[0m\u001b[0;34m\u001b[0m\u001b[0m\n",
      "\u001b[0;32m/Users/joa/anaconda/lib/python3.5/site-packages/sklearn/externals/joblib/parallel.py\u001b[0m in \u001b[0;36m<listcomp>\u001b[0;34m(.0)\u001b[0m\n\u001b[1;32m    129\u001b[0m \u001b[0;34m\u001b[0m\u001b[0m\n\u001b[1;32m    130\u001b[0m     \u001b[0;32mdef\u001b[0m \u001b[0m__call__\u001b[0m\u001b[0;34m(\u001b[0m\u001b[0mself\u001b[0m\u001b[0;34m)\u001b[0m\u001b[0;34m:\u001b[0m\u001b[0;34m\u001b[0m\u001b[0m\n\u001b[0;32m--> 131\u001b[0;31m         \u001b[0;32mreturn\u001b[0m \u001b[0;34m[\u001b[0m\u001b[0mfunc\u001b[0m\u001b[0;34m(\u001b[0m\u001b[0;34m*\u001b[0m\u001b[0margs\u001b[0m\u001b[0;34m,\u001b[0m \u001b[0;34m**\u001b[0m\u001b[0mkwargs\u001b[0m\u001b[0;34m)\u001b[0m \u001b[0;32mfor\u001b[0m \u001b[0mfunc\u001b[0m\u001b[0;34m,\u001b[0m \u001b[0margs\u001b[0m\u001b[0;34m,\u001b[0m \u001b[0mkwargs\u001b[0m \u001b[0;32min\u001b[0m \u001b[0mself\u001b[0m\u001b[0;34m.\u001b[0m\u001b[0mitems\u001b[0m\u001b[0;34m]\u001b[0m\u001b[0;34m\u001b[0m\u001b[0m\n\u001b[0m\u001b[1;32m    132\u001b[0m \u001b[0;34m\u001b[0m\u001b[0m\n\u001b[1;32m    133\u001b[0m     \u001b[0;32mdef\u001b[0m \u001b[0m__len__\u001b[0m\u001b[0;34m(\u001b[0m\u001b[0mself\u001b[0m\u001b[0;34m)\u001b[0m\u001b[0;34m:\u001b[0m\u001b[0;34m\u001b[0m\u001b[0m\n",
      "\u001b[0;31mKeyboardInterrupt\u001b[0m: "
     ]
    }
   ],
   "source": [
    "import openml as oml\n",
    "from sklearn import neighbors\n",
    "\n",
    "for task_id in [14951,10103,9945]:\n",
    "    task = oml.tasks.get_task(task_id)\n",
    "    data = oml.datasets.get_dataset(task.dataset_id)\n",
    "    clf = neighbors.KNeighborsClassifier(n_neighbors=5)\n",
    "    run = oml.runs.run_task(task, clf)\n",
    "    myrun = run.publish()\n",
    "    print(\"kNN on %s: http://www.openml.org/r/%d\" % (data.name, myrun.run_id))"
   ]
  },
  {
   "cell_type": "markdown",
   "metadata": {
    "collapsed": true,
    "slideshow": {
     "slide_type": "slide"
    }
   },
   "source": [
    "## Other possibilities\n",
    "OpenML's Python API is currently still under development. To be added soon:\n",
    "\n",
    "* Support for uploading pipelines\n",
    "* Organizing data sets, algorithms, and experiments into studies\n",
    "* Downloading previous experiments, evaluations and models\n",
    "* Uploading new datasets to OpenML\n",
    "* Filters for listings (e.g. filter by author, tags, other properties)\n",
    "\n",
    "All of this is already possible with the R and Java API."
   ]
  },
  {
   "cell_type": "code",
   "execution_count": null,
   "metadata": {
    "collapsed": true
   },
   "outputs": [],
   "source": []
  }
 ],
 "metadata": {
  "anaconda-cloud": {},
  "celltoolbar": "Slideshow",
  "colabVersion": "0.1",
  "kernelspec": {
   "display_name": "Python [default]",
   "language": "python",
   "name": "python3"
  },
  "language_info": {
   "codemirror_mode": {
    "name": "ipython",
    "version": 3
   },
   "file_extension": ".py",
   "mimetype": "text/x-python",
   "name": "python",
   "nbconvert_exporter": "python",
   "pygments_lexer": "ipython3",
   "version": "3.5.2"
  }
 },
 "nbformat": 4,
 "nbformat_minor": 0
}
